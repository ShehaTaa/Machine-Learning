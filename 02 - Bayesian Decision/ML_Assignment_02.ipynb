{
 "cells": [
  {
   "cell_type": "code",
   "execution_count": 1,
   "metadata": {
    "colab": {
     "base_uri": "https://localhost:8080/"
    },
    "id": "TRAc6f14dlId",
    "outputId": "fa59f1d7-78f0-4712-9574-9717e6a6e55b"
   },
   "outputs": [
    {
     "name": "stdout",
     "output_type": "stream",
     "text": [
      "Requirement already satisfied: JasonUtils in c:\\users\\sarah\\anaconda3\\lib\\site-packages (1.0.6)\n",
      "Requirement already satisfied: scikit-learn in c:\\users\\sarah\\anaconda3\\lib\\site-packages (from JasonUtils) (0.23.2)\n",
      "Requirement already satisfied: matplotlib in c:\\users\\sarah\\anaconda3\\lib\\site-packages (from JasonUtils) (3.3.2)\n",
      "Requirement already satisfied: imblearn in c:\\users\\sarah\\anaconda3\\lib\\site-packages (from JasonUtils) (0.0)\n",
      "Requirement already satisfied: beepy in c:\\users\\sarah\\anaconda3\\lib\\site-packages (from JasonUtils) (1.0.7)\n",
      "Requirement already satisfied: pandas in c:\\users\\sarah\\anaconda3\\lib\\site-packages (from JasonUtils) (1.1.3)\n",
      "Requirement already satisfied: numpy in c:\\users\\sarah\\anaconda3\\lib\\site-packages (from JasonUtils) (1.19.2)\n",
      "Requirement already satisfied: threadpoolctl>=2.0.0 in c:\\users\\sarah\\anaconda3\\lib\\site-packages (from scikit-learn->JasonUtils) (2.1.0)\n",
      "Requirement already satisfied: scipy>=0.19.1 in c:\\users\\sarah\\anaconda3\\lib\\site-packages (from scikit-learn->JasonUtils) (1.5.2)\n",
      "Requirement already satisfied: joblib>=0.11 in c:\\users\\sarah\\anaconda3\\lib\\site-packages (from scikit-learn->JasonUtils) (0.17.0)\n",
      "Requirement already satisfied: cycler>=0.10 in c:\\users\\sarah\\anaconda3\\lib\\site-packages (from matplotlib->JasonUtils) (0.10.0)\n",
      "Requirement already satisfied: pyparsing!=2.0.4,!=2.1.2,!=2.1.6,>=2.0.3 in c:\\users\\sarah\\anaconda3\\lib\\site-packages (from matplotlib->JasonUtils) (2.4.7)\n",
      "Requirement already satisfied: pillow>=6.2.0 in c:\\users\\sarah\\anaconda3\\lib\\site-packages (from matplotlib->JasonUtils) (8.0.1)\n",
      "Requirement already satisfied: certifi>=2020.06.20 in c:\\users\\sarah\\anaconda3\\lib\\site-packages (from matplotlib->JasonUtils) (2020.6.20)\n",
      "Requirement already satisfied: kiwisolver>=1.0.1 in c:\\users\\sarah\\anaconda3\\lib\\site-packages (from matplotlib->JasonUtils) (1.3.0)\n",
      "Requirement already satisfied: python-dateutil>=2.1 in c:\\users\\sarah\\anaconda3\\lib\\site-packages (from matplotlib->JasonUtils) (2.8.1)\n",
      "Requirement already satisfied: imbalanced-learn in c:\\users\\sarah\\anaconda3\\lib\\site-packages (from imblearn->JasonUtils) (0.8.1)\n",
      "Requirement already satisfied: simpleaudio in c:\\users\\sarah\\anaconda3\\lib\\site-packages (from beepy->JasonUtils) (1.0.4)\n",
      "Requirement already satisfied: pytz>=2017.2 in c:\\users\\sarah\\anaconda3\\lib\\site-packages (from pandas->JasonUtils) (2020.1)\n",
      "Requirement already satisfied: six in c:\\users\\sarah\\anaconda3\\lib\\site-packages (from cycler>=0.10->matplotlib->JasonUtils) (1.15.0)\n",
      "Requirement already satisfied: codetiming in c:\\users\\sarah\\anaconda3\\lib\\site-packages (1.3.0)\n"
     ]
    }
   ],
   "source": [
    "!pip install JasonUtils\n",
    "!pip install codetiming"
   ]
  },
  {
   "cell_type": "code",
   "execution_count": 2,
   "metadata": {
    "id": "2Mel8DvIRi0x"
   },
   "outputs": [],
   "source": [
    "# import libraries\n",
    "import pandas as pd\n",
    "import numpy as np\n",
    "from sklearn import datasets\n",
    "import matplotlib.pyplot as plt\n",
    "from sklearn.metrics import classification_report, confusion_matrix, accuracy_score, plot_confusion_matrix, recall_score, precision_score\n",
    "from sklearn.model_selection import train_test_split\n",
    "from sklearn.naive_bayes import GaussianNB\n",
    "from sklearn.base import BaseEstimator, ClassifierMixin, clone\n",
    "from sklearn.utils.validation import check_is_fitted, check_X_y"
   ]
  },
  {
   "cell_type": "markdown",
   "metadata": {
    "id": "JeQYROQTwgKA"
   },
   "source": [
    "# 01 - load dataset"
   ]
  },
  {
   "cell_type": "code",
   "execution_count": 3,
   "metadata": {
    "id": "w27-oeRURwFA"
   },
   "outputs": [],
   "source": [
    "# 01 - load dataset\n",
    "iris = datasets.load_iris()"
   ]
  },
  {
   "cell_type": "code",
   "execution_count": 4,
   "metadata": {
    "id": "2JUlRpcMSAxX"
   },
   "outputs": [],
   "source": [
    "# Convert iris to dataframe\n",
    "iris_df = pd.DataFrame(data= np.c_[iris['data'], iris['target']],\n",
    "                       columns= iris['feature_names'] + ['target'])"
   ]
  },
  {
   "cell_type": "code",
   "execution_count": 46,
   "metadata": {
    "colab": {
     "base_uri": "https://localhost:8080/",
     "height": 204
    },
    "id": "n-rWjbCOSSCx",
    "outputId": "b448a158-dc9c-4219-f00e-87dac71e8dee"
   },
   "outputs": [
    {
     "data": {
      "text/html": [
       "<div>\n",
       "<style scoped>\n",
       "    .dataframe tbody tr th:only-of-type {\n",
       "        vertical-align: middle;\n",
       "    }\n",
       "\n",
       "    .dataframe tbody tr th {\n",
       "        vertical-align: top;\n",
       "    }\n",
       "\n",
       "    .dataframe thead th {\n",
       "        text-align: right;\n",
       "    }\n",
       "</style>\n",
       "<table border=\"1\" class=\"dataframe\">\n",
       "  <thead>\n",
       "    <tr style=\"text-align: right;\">\n",
       "      <th></th>\n",
       "      <th>sepal length (cm)</th>\n",
       "      <th>sepal width (cm)</th>\n",
       "      <th>petal length (cm)</th>\n",
       "      <th>petal width (cm)</th>\n",
       "      <th>target</th>\n",
       "    </tr>\n",
       "  </thead>\n",
       "  <tbody>\n",
       "    <tr>\n",
       "      <th>0</th>\n",
       "      <td>5.1</td>\n",
       "      <td>3.5</td>\n",
       "      <td>1.4</td>\n",
       "      <td>0.2</td>\n",
       "      <td>0.0</td>\n",
       "    </tr>\n",
       "    <tr>\n",
       "      <th>1</th>\n",
       "      <td>4.9</td>\n",
       "      <td>3.0</td>\n",
       "      <td>1.4</td>\n",
       "      <td>0.2</td>\n",
       "      <td>0.0</td>\n",
       "    </tr>\n",
       "    <tr>\n",
       "      <th>2</th>\n",
       "      <td>4.7</td>\n",
       "      <td>3.2</td>\n",
       "      <td>1.3</td>\n",
       "      <td>0.2</td>\n",
       "      <td>0.0</td>\n",
       "    </tr>\n",
       "    <tr>\n",
       "      <th>3</th>\n",
       "      <td>4.6</td>\n",
       "      <td>3.1</td>\n",
       "      <td>1.5</td>\n",
       "      <td>0.2</td>\n",
       "      <td>0.0</td>\n",
       "    </tr>\n",
       "    <tr>\n",
       "      <th>4</th>\n",
       "      <td>5.0</td>\n",
       "      <td>3.6</td>\n",
       "      <td>1.4</td>\n",
       "      <td>0.2</td>\n",
       "      <td>0.0</td>\n",
       "    </tr>\n",
       "    <tr>\n",
       "      <th>...</th>\n",
       "      <td>...</td>\n",
       "      <td>...</td>\n",
       "      <td>...</td>\n",
       "      <td>...</td>\n",
       "      <td>...</td>\n",
       "    </tr>\n",
       "    <tr>\n",
       "      <th>145</th>\n",
       "      <td>6.7</td>\n",
       "      <td>3.0</td>\n",
       "      <td>5.2</td>\n",
       "      <td>2.3</td>\n",
       "      <td>2.0</td>\n",
       "    </tr>\n",
       "    <tr>\n",
       "      <th>146</th>\n",
       "      <td>6.3</td>\n",
       "      <td>2.5</td>\n",
       "      <td>5.0</td>\n",
       "      <td>1.9</td>\n",
       "      <td>2.0</td>\n",
       "    </tr>\n",
       "    <tr>\n",
       "      <th>147</th>\n",
       "      <td>6.5</td>\n",
       "      <td>3.0</td>\n",
       "      <td>5.2</td>\n",
       "      <td>2.0</td>\n",
       "      <td>2.0</td>\n",
       "    </tr>\n",
       "    <tr>\n",
       "      <th>148</th>\n",
       "      <td>6.2</td>\n",
       "      <td>3.4</td>\n",
       "      <td>5.4</td>\n",
       "      <td>2.3</td>\n",
       "      <td>2.0</td>\n",
       "    </tr>\n",
       "    <tr>\n",
       "      <th>149</th>\n",
       "      <td>5.9</td>\n",
       "      <td>3.0</td>\n",
       "      <td>5.1</td>\n",
       "      <td>1.8</td>\n",
       "      <td>2.0</td>\n",
       "    </tr>\n",
       "  </tbody>\n",
       "</table>\n",
       "<p>150 rows × 5 columns</p>\n",
       "</div>"
      ],
      "text/plain": [
       "     sepal length (cm)  sepal width (cm)  petal length (cm)  petal width (cm)  \\\n",
       "0                  5.1               3.5                1.4               0.2   \n",
       "1                  4.9               3.0                1.4               0.2   \n",
       "2                  4.7               3.2                1.3               0.2   \n",
       "3                  4.6               3.1                1.5               0.2   \n",
       "4                  5.0               3.6                1.4               0.2   \n",
       "..                 ...               ...                ...               ...   \n",
       "145                6.7               3.0                5.2               2.3   \n",
       "146                6.3               2.5                5.0               1.9   \n",
       "147                6.5               3.0                5.2               2.0   \n",
       "148                6.2               3.4                5.4               2.3   \n",
       "149                5.9               3.0                5.1               1.8   \n",
       "\n",
       "     target  \n",
       "0       0.0  \n",
       "1       0.0  \n",
       "2       0.0  \n",
       "3       0.0  \n",
       "4       0.0  \n",
       "..      ...  \n",
       "145     2.0  \n",
       "146     2.0  \n",
       "147     2.0  \n",
       "148     2.0  \n",
       "149     2.0  \n",
       "\n",
       "[150 rows x 5 columns]"
      ]
     },
     "execution_count": 46,
     "metadata": {},
     "output_type": "execute_result"
    }
   ],
   "source": [
    "iris_df.head()"
   ]
  },
  {
   "cell_type": "code",
   "execution_count": 6,
   "metadata": {
    "id": "7zSu2BotTNEx"
   },
   "outputs": [],
   "source": [
    "# copy original iris \n",
    "iris_df_copy = iris_df.copy()"
   ]
  },
  {
   "cell_type": "markdown",
   "metadata": {
    "id": "pcCdV6Qbwlug"
   },
   "source": [
    "# 02 - Drop the petal length and petal width features"
   ]
  },
  {
   "cell_type": "code",
   "execution_count": 7,
   "metadata": {
    "colab": {
     "base_uri": "https://localhost:8080/",
     "height": 204
    },
    "id": "gDZY3_Q6SZDX",
    "outputId": "10d3c0d3-5a3a-4ba9-ac21-826a0482113d"
   },
   "outputs": [
    {
     "data": {
      "text/html": [
       "<div>\n",
       "<style scoped>\n",
       "    .dataframe tbody tr th:only-of-type {\n",
       "        vertical-align: middle;\n",
       "    }\n",
       "\n",
       "    .dataframe tbody tr th {\n",
       "        vertical-align: top;\n",
       "    }\n",
       "\n",
       "    .dataframe thead th {\n",
       "        text-align: right;\n",
       "    }\n",
       "</style>\n",
       "<table border=\"1\" class=\"dataframe\">\n",
       "  <thead>\n",
       "    <tr style=\"text-align: right;\">\n",
       "      <th></th>\n",
       "      <th>sepal length (cm)</th>\n",
       "      <th>sepal width (cm)</th>\n",
       "      <th>target</th>\n",
       "    </tr>\n",
       "  </thead>\n",
       "  <tbody>\n",
       "    <tr>\n",
       "      <th>0</th>\n",
       "      <td>5.1</td>\n",
       "      <td>3.5</td>\n",
       "      <td>0.0</td>\n",
       "    </tr>\n",
       "    <tr>\n",
       "      <th>1</th>\n",
       "      <td>4.9</td>\n",
       "      <td>3.0</td>\n",
       "      <td>0.0</td>\n",
       "    </tr>\n",
       "    <tr>\n",
       "      <th>2</th>\n",
       "      <td>4.7</td>\n",
       "      <td>3.2</td>\n",
       "      <td>0.0</td>\n",
       "    </tr>\n",
       "    <tr>\n",
       "      <th>3</th>\n",
       "      <td>4.6</td>\n",
       "      <td>3.1</td>\n",
       "      <td>0.0</td>\n",
       "    </tr>\n",
       "    <tr>\n",
       "      <th>4</th>\n",
       "      <td>5.0</td>\n",
       "      <td>3.6</td>\n",
       "      <td>0.0</td>\n",
       "    </tr>\n",
       "  </tbody>\n",
       "</table>\n",
       "</div>"
      ],
      "text/plain": [
       "   sepal length (cm)  sepal width (cm)  target\n",
       "0                5.1               3.5     0.0\n",
       "1                4.9               3.0     0.0\n",
       "2                4.7               3.2     0.0\n",
       "3                4.6               3.1     0.0\n",
       "4                5.0               3.6     0.0"
      ]
     },
     "execution_count": 7,
     "metadata": {},
     "output_type": "execute_result"
    }
   ],
   "source": [
    "# 02 - Drop the petal length and petal width features\n",
    "iris_df_copy.drop(['petal length (cm)', 'petal width (cm)'], axis=1, inplace= True)\n",
    "iris_df_copy.head()"
   ]
  },
  {
   "cell_type": "markdown",
   "metadata": {
    "id": "NTUF8IidmPT1"
   },
   "source": [
    "## Method to plot decision boundary of the estimator"
   ]
  },
  {
   "cell_type": "code",
   "execution_count": 8,
   "metadata": {
    "id": "rxVgUZwJlFEx"
   },
   "outputs": [],
   "source": [
    "def plotDecisionBoundary(X, y, est, title=''):\n",
    "    plt.close('all')\n",
    "    plt.figure()\n",
    "    cm = plt.cm.Set1\n",
    "    x_min, x_max = X.iloc[:, 0].min() - .5, X.iloc[:, 0].max() + .5\n",
    "    y_min, y_max = X.iloc[:, 1].min() - .5, X.iloc[:, 1].max() + .5\n",
    "    h = 0.02\n",
    "    xx, yy = np.meshgrid(np.arange(x_min, x_max, h),\n",
    "                         np.arange(y_min, y_max, h))\n",
    "    Z = est.predict(np.c_[xx.ravel(), yy.ravel()])\n",
    "    Z = Z.reshape(xx.shape)\n",
    "    plt.contourf(xx, yy, Z, cmap=cm, alpha=.8)\n",
    "    plt.scatter(\n",
    "        X.iloc[:, 0],\n",
    "        X.iloc[:, 1],\n",
    "        c=y,\n",
    "        cmap=cm,\n",
    "        edgecolors='k',\n",
    "        alpha=1,\n",
    "    )\n",
    "    plt.title(title)\n",
    "    plt.legend(labels)\n",
    "    plt.show()"
   ]
  },
  {
   "cell_type": "code",
   "execution_count": 9,
   "metadata": {
    "id": "7tLVTiAFUKr4"
   },
   "outputs": [],
   "source": [
    "# Split the data to train and test\n",
    "X = iris_df_copy.iloc[:, :2].values\n",
    "y = iris_df_copy.iloc[:, 2].values\n",
    "\n",
    "labels = iris.target_names\n",
    "\n",
    "X_train, X_test, y_train, y_test = train_test_split(X, y, random_state=0)\n",
    "X_test = pd.DataFrame(X_test)\n",
    "y_test = pd.DataFrame(y_test)"
   ]
  },
  {
   "cell_type": "code",
   "execution_count": 10,
   "metadata": {
    "id": "exVXUe5uojSn"
   },
   "outputs": [],
   "source": [
    "def build_classifier(estimator_obj, X_train, X_test, y_train, y_test, title=''):\n",
    "\n",
    "    model = estimator_obj.fit(X_train, y_train)\n",
    "    y_pred = model.predict(X_test)\n",
    "    y_pred_for_trainData = model.predict(X_train)\n",
    "\n",
    "    print('\\nClassification Report:\\n')\n",
    "    print(classification_report(y_test, y_pred))\n",
    "    print(\"---------------------------------------------\\n\")\n",
    "\n",
    "    train_acc = accuracy_score(y_train, y_pred_for_trainData)\n",
    "    print(\"Train Accuracy: {:.2f}\\n\".format(train_acc))\n",
    "\n",
    "    train_precision = precision_score(y_train, y_pred_for_trainData, average='macro')\n",
    "    print(\"precision score for train: {:.2f}\\n\".format(train_precision))\n",
    "\n",
    "    train_recall = recall_score(y_train, y_pred_for_trainData, average='macro')\n",
    "    print(\"recall score for train: {:.2f}\\n\".format(train_recall))\n",
    "    print(\"---------------------------------------------\\n\")\n",
    "\n",
    "    test_acc = accuracy_score(y_test, y_pred)\n",
    "    print(\"Test Accuracy: {:.2f}\\n\".format(test_acc))\n",
    "\n",
    "    test_precision = precision_score(y_test, y_pred, average='macro')\n",
    "    print(\"precision score for test: {:.2f}\\n\".format(test_precision))\n",
    "\n",
    "    test_recall = recall_score(y_test, y_pred, average='macro')\n",
    "    print(\"recall score for test: {:.2f}\\n\".format(test_recall))\n",
    "    print(\"---------------------------------------------\")\n",
    "\n",
    "\n",
    "    print('\\nDecision Boundary for test:\\n')\n",
    "    plotDecisionBoundary(X_test, y_test, model, title)  \n",
    "\n",
    "    print('\\nConfusion Matrix:\\n')\n",
    "    plot_confusion_matrix(model, X_test, y_test, xticks_rotation='horizontal', cmap=\"OrRd_r\")\n",
    "\n",
    "    return model, y_pred, train_acc, test_acc"
   ]
  },
  {
   "cell_type": "markdown",
   "metadata": {
    "id": "Wd2zcWEvwwsA"
   },
   "source": [
    "# 03 - Apply Naïve Bayes Classifier to get training and testing accuracy"
   ]
  },
  {
   "cell_type": "code",
   "execution_count": 11,
   "metadata": {
    "colab": {
     "base_uri": "https://localhost:8080/",
     "height": 1000
    },
    "id": "v6iYL1vWpFMs",
    "outputId": "f7e25a1c-6bbe-478b-f661-ef7e76044b36"
   },
   "outputs": [
    {
     "name": "stdout",
     "output_type": "stream",
     "text": [
      "\n",
      "Classification Report:\n",
      "\n",
      "              precision    recall  f1-score   support\n",
      "\n",
      "         0.0       1.00      1.00      1.00        13\n",
      "         1.0       0.71      0.75      0.73        16\n",
      "         2.0       0.50      0.44      0.47         9\n",
      "\n",
      "    accuracy                           0.76        38\n",
      "   macro avg       0.74      0.73      0.73        38\n",
      "weighted avg       0.76      0.76      0.76        38\n",
      "\n",
      "---------------------------------------------\n",
      "\n",
      "Train Accuracy: 0.81\n",
      "\n",
      "precision score for train: 0.81\n",
      "\n",
      "recall score for train: 0.81\n",
      "\n",
      "---------------------------------------------\n",
      "\n",
      "Test Accuracy: 0.76\n",
      "\n",
      "precision score for test: 0.74\n",
      "\n",
      "recall score for test: 0.73\n",
      "\n",
      "---------------------------------------------\n",
      "\n",
      "Decision Boundary for test:\n",
      "\n"
     ]
    },
    {
     "data": {
      "image/png": "[encoded data removed]",
      "text/plain": [
       "<Figure size 432x288 with 1 Axes>"
      ]
     },
     "metadata": {
      "needs_background": "light"
     },
     "output_type": "display_data"
    },
    {
     "name": "stdout",
     "output_type": "stream",
     "text": [
      "\n",
      "Confusion Matrix:\n",
      "\n"
     ]
    },
    {
     "data": {
      "image/png": "[encoded data removed]",
      "text/plain": [
       "<Figure size 432x288 with 2 Axes>"
      ]
     },
     "metadata": {
      "needs_background": "light"
     },
     "output_type": "display_data"
    }
   ],
   "source": [
    "# Build default Naive Bayes model\n",
    "NB_classifier1 = GaussianNB()\n",
    "NB1, y_pred1, train_acc1, test_acc1 = build_classifier(NB_classifier1, X_train, X_test, y_train, y_test, \"NB_classifier1\")"
   ]
  },
  {
   "cell_type": "markdown",
   "metadata": {
    "id": "pjnJUO4ixgwN"
   },
   "source": [
    "# 04 - Tune hyperparameters of Naive Bayes Classifier (i.e., var_smoothing).\n",
    "    Try var_smoothing as 1e-9, 1e-8, 1e-7.\n",
    "    Plot accuracy vs var_smoothing curve for training and testing set"
   ]
  },
  {
   "cell_type": "markdown",
   "metadata": {
    "id": "k1d6wno9wzsI"
   },
   "source": [
    "### 4.1.1"
   ]
  },
  {
   "cell_type": "code",
   "execution_count": 12,
   "metadata": {
    "colab": {
     "base_uri": "https://localhost:8080/",
     "height": 1000
    },
    "id": "V1_khNdhpkVR",
    "outputId": "7068e87b-be1e-493c-ec7f-dc2bc37e00a6"
   },
   "outputs": [
    {
     "name": "stdout",
     "output_type": "stream",
     "text": [
      "\n",
      "Classification Report:\n",
      "\n",
      "              precision    recall  f1-score   support\n",
      "\n",
      "         0.0       1.00      1.00      1.00        13\n",
      "         1.0       0.71      0.75      0.73        16\n",
      "         2.0       0.50      0.44      0.47         9\n",
      "\n",
      "    accuracy                           0.76        38\n",
      "   macro avg       0.74      0.73      0.73        38\n",
      "weighted avg       0.76      0.76      0.76        38\n",
      "\n",
      "---------------------------------------------\n",
      "\n",
      "Train Accuracy: 0.81\n",
      "\n",
      "precision score for train: 0.81\n",
      "\n",
      "recall score for train: 0.81\n",
      "\n",
      "---------------------------------------------\n",
      "\n",
      "Test Accuracy: 0.76\n",
      "\n",
      "precision score for test: 0.74\n",
      "\n",
      "recall score for test: 0.73\n",
      "\n",
      "---------------------------------------------\n",
      "\n",
      "Decision Boundary for test:\n",
      "\n"
     ]
    },
    {
     "data": {
      "image/png": "[encoded data removed]",
      "text/plain": [
       "<Figure size 432x288 with 1 Axes>"
      ]
     },
     "metadata": {
      "needs_background": "light"
     },
     "output_type": "display_data"
    },
    {
     "name": "stdout",
     "output_type": "stream",
     "text": [
      "\n",
      "Confusion Matrix:\n",
      "\n"
     ]
    },
    {
     "data": {
      "image/png": "[encoded data removed]",
      "text/plain": [
       "<Figure size 432x288 with 2 Axes>"
      ]
     },
     "metadata": {
      "needs_background": "light"
     },
     "output_type": "display_data"
    }
   ],
   "source": [
    "# Build Naive Bayes model with var_smoothing as 1e-9\n",
    "NB_classifier2 = GaussianNB(var_smoothing= 1e-9)\n",
    "NB2, y_pred2, train_acc2, test_acc2 = build_classifier(NB_classifier2, X_train, X_test, y_train, y_test, \"NB_classifier2\")"
   ]
  },
  {
   "cell_type": "markdown",
   "metadata": {
    "id": "S_yPGp3pw1yc"
   },
   "source": [
    "### 4.1.2"
   ]
  },
  {
   "cell_type": "code",
   "execution_count": 13,
   "metadata": {
    "colab": {
     "base_uri": "https://localhost:8080/",
     "height": 1000
    },
    "id": "j5SnF92-pECI",
    "outputId": "30c8ce7b-1596-4b48-ff3d-461ac6bf81ca"
   },
   "outputs": [
    {
     "name": "stdout",
     "output_type": "stream",
     "text": [
      "\n",
      "Classification Report:\n",
      "\n",
      "              precision    recall  f1-score   support\n",
      "\n",
      "         0.0       1.00      1.00      1.00        13\n",
      "         1.0       0.71      0.75      0.73        16\n",
      "         2.0       0.50      0.44      0.47         9\n",
      "\n",
      "    accuracy                           0.76        38\n",
      "   macro avg       0.74      0.73      0.73        38\n",
      "weighted avg       0.76      0.76      0.76        38\n",
      "\n",
      "---------------------------------------------\n",
      "\n",
      "Train Accuracy: 0.81\n",
      "\n",
      "precision score for train: 0.81\n",
      "\n",
      "recall score for train: 0.81\n",
      "\n",
      "---------------------------------------------\n",
      "\n",
      "Test Accuracy: 0.76\n",
      "\n",
      "precision score for test: 0.74\n",
      "\n",
      "recall score for test: 0.73\n",
      "\n",
      "---------------------------------------------\n",
      "\n",
      "Decision Boundary for test:\n",
      "\n"
     ]
    },
    {
     "data": {
      "image/png": "[encoded data removed]",
      "text/plain": [
       "<Figure size 432x288 with 1 Axes>"
      ]
     },
     "metadata": {
      "needs_background": "light"
     },
     "output_type": "display_data"
    },
    {
     "name": "stdout",
     "output_type": "stream",
     "text": [
      "\n",
      "Confusion Matrix:\n",
      "\n"
     ]
    },
    {
     "data": {
      "image/png": "[encoded data removed]",
      "text/plain": [
       "<Figure size 432x288 with 2 Axes>"
      ]
     },
     "metadata": {
      "needs_background": "light"
     },
     "output_type": "display_data"
    }
   ],
   "source": [
    "# Build Naive Bayes model with var_smoothing as 1e-8\n",
    "NB_classifier3 = GaussianNB(var_smoothing= 1e-8)\n",
    "NB3, y_pred3, train_acc3, test_acc3 = build_classifier(NB_classifier3, X_train, X_test, y_train, y_test, \"NB_classifier3\")"
   ]
  },
  {
   "cell_type": "markdown",
   "metadata": {
    "id": "IZlgTxHow4a8"
   },
   "source": [
    "### 4.1.3"
   ]
  },
  {
   "cell_type": "code",
   "execution_count": 14,
   "metadata": {
    "colab": {
     "base_uri": "https://localhost:8080/",
     "height": 1000
    },
    "id": "9yHZhQ-Lp0kP",
    "outputId": "399d602c-8287-4511-e937-3004b2208cf5"
   },
   "outputs": [
    {
     "name": "stdout",
     "output_type": "stream",
     "text": [
      "\n",
      "Classification Report:\n",
      "\n",
      "              precision    recall  f1-score   support\n",
      "\n",
      "         0.0       1.00      1.00      1.00        13\n",
      "         1.0       0.71      0.75      0.73        16\n",
      "         2.0       0.50      0.44      0.47         9\n",
      "\n",
      "    accuracy                           0.76        38\n",
      "   macro avg       0.74      0.73      0.73        38\n",
      "weighted avg       0.76      0.76      0.76        38\n",
      "\n",
      "---------------------------------------------\n",
      "\n",
      "Train Accuracy: 0.81\n",
      "\n",
      "precision score for train: 0.81\n",
      "\n",
      "recall score for train: 0.81\n",
      "\n",
      "---------------------------------------------\n",
      "\n",
      "Test Accuracy: 0.76\n",
      "\n",
      "precision score for test: 0.74\n",
      "\n",
      "recall score for test: 0.73\n",
      "\n",
      "---------------------------------------------\n",
      "\n",
      "Decision Boundary for test:\n",
      "\n"
     ]
    },
    {
     "data": {
      "image/png": "[encoded data removed]",
      "text/plain": [
       "<Figure size 432x288 with 1 Axes>"
      ]
     },
     "metadata": {
      "needs_background": "light"
     },
     "output_type": "display_data"
    },
    {
     "name": "stdout",
     "output_type": "stream",
     "text": [
      "\n",
      "Confusion Matrix:\n",
      "\n"
     ]
    },
    {
     "data": {
      "image/png": "[encoded data removed]",
      "text/plain": [
       "<Figure size 432x288 with 2 Axes>"
      ]
     },
     "metadata": {
      "needs_background": "light"
     },
     "output_type": "display_data"
    }
   ],
   "source": [
    "# Build Naive Bayes model with var_smoothing as 1e-7\n",
    "NB_classifier4 = GaussianNB(var_smoothing= 1e-7)\n",
    "NB4, y_pred4, train_acc4, test_acc4 = build_classifier(NB_classifier4, X_train, X_test, y_train, y_test, \"NB_classifier4\")"
   ]
  },
  {
   "cell_type": "markdown",
   "metadata": {
    "id": "NLMd0RItOmP0"
   },
   "source": [
    "## 4.2 Plot accuracy vs var_smoothing curve for training and testing set"
   ]
  },
  {
   "cell_type": "code",
   "execution_count": 15,
   "metadata": {
    "colab": {
     "base_uri": "https://localhost:8080/",
     "height": 279
    },
    "id": "koN-zvsAZjrD",
    "outputId": "d7785f20-fab2-411d-980a-f31ce4518051"
   },
   "outputs": [
    {
     "data": {
      "image/png": "[encoded data removed]",
      "text/plain": [
       "<Figure size 432x288 with 1 Axes>"
      ]
     },
     "metadata": {
      "needs_background": "light"
     },
     "output_type": "display_data"
    }
   ],
   "source": [
    "var_smoothing = [1e-9, 1e-8, 1e-7]\n",
    "train_acc = [train_acc2, train_acc3, train_acc4]\n",
    "test_acc = [test_acc2, test_acc3, test_acc4]\n",
    "\n",
    "values = range(len(var_smoothing))\n",
    "\n",
    "plt.plot(values , train_acc, label= \"Train Acc\")\n",
    "plt.plot(values, test_acc, label= \"Test Acc\")\n",
    "plt.xlabel(\"Var Smoothing\")\n",
    "plt.ylabel(\"Accuracy\")\n",
    "plt.xticks(values, var_smoothing)\n",
    "plt.legend()\n",
    "plt.show()"
   ]
  },
  {
   "cell_type": "markdown",
   "metadata": {
    "id": "pbGyDVeiydTS"
   },
   "source": [
    "# 05 - Develop Risk-based Bayesian Decision Theory Classifier (RBDTC)"
   ]
  },
  {
   "cell_type": "code",
   "execution_count": 16,
   "metadata": {
    "id": "yJGP-IWalMMl"
   },
   "outputs": [],
   "source": [
    "# 5.1\n",
    "class BayesianDecisionTheoryClassifier(BaseEstimator, ClassifierMixin):\n",
    "  \n",
    "    # 5.3\n",
    "    def __init__(self, estimator, utilityMat):\n",
    "        self.estimator = estimator\n",
    "        self.utilityMat = utilityMat\n",
    "\n",
    "    # 5.4\n",
    "    def fit(self, X, y):\n",
    "        # 5.2\n",
    "        # check inputs\n",
    "        X_checked, y_checked = check_X_y(X, y)\n",
    "        self.classes_names = np.unique(labels) #names\n",
    "        self.classes_ = np.unique(y_checked)   #numbers\n",
    "        self.estimator_ = clone(self.estimator).fit(X_checked, y_checked)\n",
    "        return self\n",
    "\n",
    "    # 5.5\n",
    "    def predict_proba(self, X):\n",
    "        # check model status\n",
    "        check_is_fitted(self)\n",
    "        prob = self.estimator_.predict_proba(X)\n",
    "        probList = [(prob * self.utilityMat[index]).sum(axis=1).reshape((-1, 1))\n",
    "                    for index, c in enumerate(self.classes_)]\n",
    "        prob = np.hstack(probList)\n",
    "        return prob\n",
    "\n",
    "    # 5.6\n",
    "    def predict_labels(self, X):\n",
    "       pred = self.predict_proba(X).argmin(axis=1)\n",
    "       pred_name = self.classes_names[pred]\n",
    "       return pred_name\n",
    "\n",
    "    def predict(self, X):\n",
    "        pred = self.predict_proba(X).argmin(axis=1)\n",
    "        pred_label = self.classes_[pred]\n",
    "        return pred_label\n"
   ]
  },
  {
   "cell_type": "markdown",
   "metadata": {
    "id": "PZqQduvCvSSO"
   },
   "source": [
    "# 06 - Apply Risk-based Bayesian Decision Theory Classifier\n",
    "    which takes Naïve Bayes Classifier as base estimator and uses Table 3 as risk matri"
   ]
  },
  {
   "cell_type": "code",
   "execution_count": 44,
   "metadata": {
    "id": "xaU3xumRaJbj"
   },
   "outputs": [],
   "source": [
    "# 6\n",
    "utilityMat = np.array([\n",
    "      [-10, -5, -5],\n",
    "      [-5, -10, -5],\n",
    "      [-5, -5, -100],])\n",
    "\n",
    "bdtc = BayesianDecisionTheoryClassifier(NB1, utilityMat)"
   ]
  },
  {
   "cell_type": "markdown",
   "metadata": {
    "id": "Rd5pf_AVDwOh"
   },
   "source": [
    "# 07 - Plot decision boundary and calculate precision, recall and accuracy for training and testing set"
   ]
  },
  {
   "cell_type": "code",
   "execution_count": 45,
   "metadata": {
    "colab": {
     "base_uri": "https://localhost:8080/",
     "height": 1000
    },
    "id": "9qNCKoJzwUag",
    "outputId": "3680d565-4e41-4a2b-a696-31ead4488fe0"
   },
   "outputs": [
    {
     "name": "stdout",
     "output_type": "stream",
     "text": [
      "\n",
      "Classification Report:\n",
      "\n",
      "              precision    recall  f1-score   support\n",
      "\n",
      "         0.0       1.00      0.92      0.96        13\n",
      "         1.0       1.00      0.06      0.12        16\n",
      "         2.0       0.36      1.00      0.53         9\n",
      "\n",
      "    accuracy                           0.58        38\n",
      "   macro avg       0.79      0.66      0.54        38\n",
      "weighted avg       0.85      0.58      0.50        38\n",
      "\n",
      "---------------------------------------------\n",
      "\n",
      "Train Accuracy: 0.66\n",
      "\n",
      "precision score for train: 0.68\n",
      "\n",
      "recall score for train: 0.63\n",
      "\n",
      "---------------------------------------------\n",
      "\n",
      "Test Accuracy: 0.58\n",
      "\n",
      "precision score for test: 0.79\n",
      "\n",
      "recall score for test: 0.66\n",
      "\n",
      "---------------------------------------------\n",
      "\n",
      "Decision Boundary for test:\n",
      "\n"
     ]
    },
    {
     "data": {
      "image/png": "[encoded data removed]",
      "text/plain": [
       "<Figure size 432x288 with 1 Axes>"
      ]
     },
     "metadata": {
      "needs_background": "light"
     },
     "output_type": "display_data"
    },
    {
     "name": "stdout",
     "output_type": "stream",
     "text": [
      "\n",
      "Confusion Matrix:\n",
      "\n"
     ]
    },
    {
     "data": {
      "image/png": "[encoded data removed]",
      "text/plain": [
       "<Figure size 432x288 with 2 Axes>"
      ]
     },
     "metadata": {
      "needs_background": "light"
     },
     "output_type": "display_data"
    }
   ],
   "source": [
    "bdtc_model, bdtc_y_pred, bdtc_train_acc, bdtc_test_acc = build_classifier(bdtc, X_train, X_test, y_train, y_test, \"BayesianDecisionTheoryClassifier\")"
   ]
  },
  {
   "cell_type": "code",
   "execution_count": 48,
   "metadata": {
    "colab": {
     "base_uri": "https://localhost:8080/",
     "height": 1000
    },
    "id": "sVIUQrbK6udW",
    "outputId": "6134b30b-055b-4bdd-c209-17087adc3d06"
   },
   "outputs": [
    {
     "data": {
      "text/html": [
       "<div>\n",
       "<style scoped>\n",
       "    .dataframe tbody tr th:only-of-type {\n",
       "        vertical-align: middle;\n",
       "    }\n",
       "\n",
       "    .dataframe tbody tr th {\n",
       "        vertical-align: top;\n",
       "    }\n",
       "\n",
       "    .dataframe thead th {\n",
       "        text-align: right;\n",
       "    }\n",
       "</style>\n",
       "<table border=\"1\" class=\"dataframe\">\n",
       "  <thead>\n",
       "    <tr style=\"text-align: right;\">\n",
       "      <th></th>\n",
       "      <th>y_pred</th>\n",
       "    </tr>\n",
       "  </thead>\n",
       "  <tbody>\n",
       "    <tr>\n",
       "      <th>0</th>\n",
       "      <td>virginica</td>\n",
       "    </tr>\n",
       "    <tr>\n",
       "      <th>1</th>\n",
       "      <td>virginica</td>\n",
       "    </tr>\n",
       "    <tr>\n",
       "      <th>2</th>\n",
       "      <td>setosa</td>\n",
       "    </tr>\n",
       "    <tr>\n",
       "      <th>3</th>\n",
       "      <td>virginica</td>\n",
       "    </tr>\n",
       "    <tr>\n",
       "      <th>4</th>\n",
       "      <td>setosa</td>\n",
       "    </tr>\n",
       "  </tbody>\n",
       "</table>\n",
       "</div>"
      ],
      "text/plain": [
       "      y_pred\n",
       "0  virginica\n",
       "1  virginica\n",
       "2     setosa\n",
       "3  virginica\n",
       "4     setosa"
      ]
     },
     "execution_count": 48,
     "metadata": {},
     "output_type": "execute_result"
    }
   ],
   "source": [
    "y_pred_bdtc = bdtc_model.predict_labels(X_test)\n",
    "prediction_df = pd.DataFrame(y_pred_bdtc, columns=['y_pred'])\n",
    "prediction_df.head()"
   ]
  }
 ],
 "metadata": {
  "accelerator": "GPU",
  "colab": {
   "collapsed_sections": [],
   "name": "ML_Assignment_02.ipynb",
   "provenance": []
  },
  "kernelspec": {
   "display_name": "Python 3",
   "language": "python",
   "name": "python3"
  },
  "language_info": {
   "codemirror_mode": {
    "name": "ipython",
    "version": 3
   },
   "file_extension": ".py",
   "mimetype": "text/x-python",
   "name": "python",
   "nbconvert_exporter": "python",
   "pygments_lexer": "ipython3",
   "version": "3.8.5"
  }
 },
 "nbformat": 4,
 "nbformat_minor": 1
}
