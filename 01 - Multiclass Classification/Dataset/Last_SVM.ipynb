{
 "cells": [
  {
   "cell_type": "markdown",
   "id": "39b0b3f0",
   "metadata": {},
   "source": [
    "# Import Libraries"
   ]
  },
  {
   "cell_type": "code",
   "execution_count": 139,
   "id": "aec28214",
   "metadata": {},
   "outputs": [],
   "source": [
    "import pandas as pd\n",
    "import numpy as np\n",
    "import matplotlib.pyplot as plt\n",
    "\n",
    "from sklearn.metrics import classification_report, confusion_matrix, accuracy_score, plot_confusion_matrix\n",
    "from sklearn.datasets import make_classification, make_circles\n",
    "from sklearn.linear_model import Perceptron\n",
    "from sklearn.calibration import CalibratedClassifierCV\n",
    "from sklearn import svm"
   ]
  },
  {
   "cell_type": "markdown",
   "id": "23689bc8",
   "metadata": {},
   "source": [
    "# Import Datasets"
   ]
  },
  {
   "cell_type": "code",
   "execution_count": 69,
   "id": "6879ec95",
   "metadata": {},
   "outputs": [],
   "source": [
    "seeds_train = pd.read_csv(\"Dataset/seeds_train.csv\", header= None)    #169\n",
    "seeds_test = pd.read_csv(\"Dataset/seeds_test.csv\", header= None)      #42"
   ]
  },
  {
   "cell_type": "markdown",
   "id": "1637ff39",
   "metadata": {},
   "source": []
  },
  {
   "cell_type": "code",
   "execution_count": 70,
   "id": "92fb379a",
   "metadata": {},
   "outputs": [],
   "source": [
    "# Make copy from our main datasets\n",
    "seeds_train_ovr = seeds_train.copy()\n",
    "seeds_test_ovr = seeds_test.copy()"
   ]
  },
  {
   "cell_type": "markdown",
   "id": "e953adca",
   "metadata": {},
   "source": [
    "## Method to get model accuracy "
   ]
  },
  {
   "cell_type": "code",
   "execution_count": 71,
   "id": "4ab6f90d",
   "metadata": {},
   "outputs": [],
   "source": [
    "# method to get accuracy of the model\n",
    "def getAccuracy(model, x, y):\n",
    "    return model.score(x,y)*100"
   ]
  },
  {
   "cell_type": "code",
   "execution_count": 72,
   "id": "d8217005",
   "metadata": {},
   "outputs": [],
   "source": [
    "# method to make data binary\n",
    "def binary_y(df_train, df_test):\n",
    "  for i in df_train[2].unique():\n",
    "    df_train['y{}'.format(i)] = df_train[2].apply(lambda x: 1 if x == i else -1)\n",
    "    df_test['y{}'.format(i)] = df_test[2].apply(lambda x: 1 if x == i else -1)\n",
    "\n",
    "  return df_train, df_test\n",
    "\n",
    "df_train_ovr, df_test_ovr = binary_y(seeds_train_ovr, seeds_test_ovr)"
   ]
  },
  {
   "cell_type": "code",
   "execution_count": 132,
   "id": "ee4785f1",
   "metadata": {},
   "outputs": [
    {
     "data": {
      "text/html": [
       "<div>\n",
       "<style scoped>\n",
       "    .dataframe tbody tr th:only-of-type {\n",
       "        vertical-align: middle;\n",
       "    }\n",
       "\n",
       "    .dataframe tbody tr th {\n",
       "        vertical-align: top;\n",
       "    }\n",
       "\n",
       "    .dataframe thead th {\n",
       "        text-align: right;\n",
       "    }\n",
       "</style>\n",
       "<table border=\"1\" class=\"dataframe\">\n",
       "  <thead>\n",
       "    <tr style=\"text-align: right;\">\n",
       "      <th></th>\n",
       "      <th>0</th>\n",
       "      <th>1</th>\n",
       "      <th>2</th>\n",
       "      <th>y1</th>\n",
       "      <th>y2</th>\n",
       "      <th>y3</th>\n",
       "    </tr>\n",
       "  </thead>\n",
       "  <tbody>\n",
       "    <tr>\n",
       "      <th>0</th>\n",
       "      <td>14.84</td>\n",
       "      <td>2.221</td>\n",
       "      <td>1</td>\n",
       "      <td>1</td>\n",
       "      <td>-1</td>\n",
       "      <td>-1</td>\n",
       "    </tr>\n",
       "  </tbody>\n",
       "</table>\n",
       "</div>"
      ],
      "text/plain": [
       "       0      1  2  y1  y2  y3\n",
       "0  14.84  2.221  1   1  -1  -1"
      ]
     },
     "execution_count": 132,
     "metadata": {},
     "output_type": "execute_result"
    }
   ],
   "source": [
    "df_test_ovr.head(1)"
   ]
  },
  {
   "cell_type": "markdown",
   "id": "64ffa336",
   "metadata": {},
   "source": [
    "# SVM"
   ]
  },
  {
   "cell_type": "code",
   "execution_count": 148,
   "id": "9d31c7dd",
   "metadata": {},
   "outputs": [],
   "source": [
    "def Model_SVM(df_train_ovr, df_test_ovr):\n",
    "    tmp = []\n",
    "    for i in range(3):\n",
    "        x_train = df_train_ovr.iloc[:, 0:2].to_numpy()\n",
    "        y_train = df_train_ovr.iloc[:, (i+3)].to_numpy()\n",
    "\n",
    "        x_test = df_test_ovr.iloc[:, 0:2].to_numpy()\n",
    "        y_test = df_test_ovr.iloc[:, (i+3)].to_numpy()\n",
    "        \n",
    "        svm_model = svm.SVC(kernel='linear', decision_function_shape='ovo', probability=True)\n",
    "        svm_model = svm_model.fit(x_train, y_train)\n",
    "        \n",
    "        tmp.append(svm_model.predict_proba(x_test))\n",
    "    \n",
    "    return tmp    "
   ]
  },
  {
   "cell_type": "code",
   "execution_count": 149,
   "id": "24374b41",
   "metadata": {},
   "outputs": [],
   "source": [
    "fl = Model_SVM(df_train_ovr, df_test_ovr)\n",
    "ls_1 = fl[0][:,1]\n",
    "ls_2 = fl[1][:,1]\n",
    "ls_3 = fl[2][:,1]"
   ]
  },
  {
   "cell_type": "code",
   "execution_count": 150,
   "id": "29037ce8",
   "metadata": {},
   "outputs": [
    {
     "name": "stdout",
     "output_type": "stream",
     "text": [
      "[1, 2, 2, 1, 1, 2, 1, 2, 3, 3, 2, 3, 1, 3, 2, 2, 2, 1, 3, 1, 3, 1, 2, 3, 2, 1, 1, 3, 2, 2, 2, 3, 3, 1, 2, 2, 2, 3, 2, 1, 2, 2]\n"
     ]
    }
   ],
   "source": [
    "predictions =[]\n",
    "for i in zip(ls_1, ls_2, ls_3):\n",
    "    x = np.argmax((i))\n",
    "    predictions.append(x+1)\n",
    "print(predictions) "
   ]
  },
  {
   "cell_type": "code",
   "execution_count": 151,
   "id": "81a49e27",
   "metadata": {},
   "outputs": [],
   "source": [
    "actuals = seeds_test.iloc[: , 2]"
   ]
  },
  {
   "cell_type": "code",
   "execution_count": 152,
   "id": "c2054bce",
   "metadata": {},
   "outputs": [
    {
     "name": "stdout",
     "output_type": "stream",
     "text": [
      "\n",
      "Confusion Matrix:\n",
      "\n",
      "[[11  2  0]\n",
      " [ 0 17  0]\n",
      " [ 1  0 11]]\n"
     ]
    }
   ],
   "source": [
    "print('\\nConfusion Matrix:\\n')\n",
    "print(confusion_matrix(actuals, predictions))"
   ]
  },
  {
   "cell_type": "markdown",
   "id": "e5b5d3de",
   "metadata": {},
   "source": [
    "# Perceptron"
   ]
  },
  {
   "cell_type": "code",
   "execution_count": 153,
   "id": "3dba1015",
   "metadata": {},
   "outputs": [],
   "source": [
    "def Model_Perceptron(df_train_ovr, df_test_ovr):\n",
    "    tmp = []\n",
    "    for i in range(3):\n",
    "        x_train = df_train_ovr.iloc[:, 0:2].to_numpy()\n",
    "        y_train = df_train_ovr.iloc[:, (i+3)].to_numpy()\n",
    "\n",
    "        x_test = df_test_ovr.iloc[:, 0:2].to_numpy()\n",
    "        y_test = df_test_ovr.iloc[:, (i+3)].to_numpy()\n",
    "        \n",
    "        preceptron_model = Perceptron(alpha = 0.01, tol=1e-2, random_state=0)\n",
    "        clf_isotonic = CalibratedClassifierCV(preceptron_model, method='isotonic')\n",
    "        clf_isotonic.fit(x_train, y_train)\n",
    "        \n",
    "        tmp.append(clf_isotonic.predict_proba(x_test))\n",
    "    \n",
    "    return tmp  "
   ]
  },
  {
   "cell_type": "code",
   "execution_count": 154,
   "id": "89b770f0",
   "metadata": {},
   "outputs": [],
   "source": [
    "fl_pre = Model_Perceptron(df_train_ovr, df_test_ovr)\n",
    "ls_pre_1 = fl_pre[0][:,1]\n",
    "ls_pre_2 = fl_pre[1][:,1]\n",
    "ls_pre_3 = fl_pre[2][:,1]"
   ]
  },
  {
   "cell_type": "code",
   "execution_count": 155,
   "id": "ec84f9aa",
   "metadata": {},
   "outputs": [
    {
     "name": "stdout",
     "output_type": "stream",
     "text": [
      "[1, 2, 1, 1, 1, 2, 1, 3, 3, 3, 2, 3, 1, 3, 2, 2, 2, 1, 3, 1, 3, 1, 3, 3, 2, 1, 1, 3, 2, 3, 1, 3, 3, 1, 2, 1, 2, 1, 3, 1, 2, 2]\n"
     ]
    }
   ],
   "source": [
    "predictions_prec =[]\n",
    "for i in zip(ls_pre_1, ls_pre_2, ls_pre_3):\n",
    "    x = np.argmax((i))\n",
    "    predictions_prec.append(x+1)\n",
    "print(predictions_prec) "
   ]
  },
  {
   "cell_type": "code",
   "execution_count": 147,
   "id": "f2bbefe7",
   "metadata": {},
   "outputs": [
    {
     "name": "stdout",
     "output_type": "stream",
     "text": [
      "\n",
      "Confusion Matrix:\n",
      "\n",
      "[[12  0  1]\n",
      " [ 2 12  3]\n",
      " [ 2  0 10]]\n"
     ]
    }
   ],
   "source": [
    "print('\\nConfusion Matrix:\\n')\n",
    "print(confusion_matrix(actuals, predictions_prec))"
   ]
  }
 ],
 "metadata": {
  "kernelspec": {
   "display_name": "Python 3 (ipykernel)",
   "language": "python",
   "name": "python3"
  },
  "language_info": {
   "codemirror_mode": {
    "name": "ipython",
    "version": 3
   },
   "file_extension": ".py",
   "mimetype": "text/x-python",
   "name": "python",
   "nbconvert_exporter": "python",
   "pygments_lexer": "ipython3",
   "version": "3.8.10"
  }
 },
 "nbformat": 4,
 "nbformat_minor": 5
}
